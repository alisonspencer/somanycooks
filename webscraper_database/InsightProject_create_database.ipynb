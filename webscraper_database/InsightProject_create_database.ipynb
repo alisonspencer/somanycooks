{
 "cells": [
  {
   "cell_type": "code",
   "execution_count": 1,
   "metadata": {
    "collapsed": false
   },
   "outputs": [],
   "source": [
    "from __future__ import print_function, division\n",
    "import sqlalchemy as sql\n",
    "from sqlalchemy import create_engine\n",
    "from sqlalchemy_utils import database_exists, create_database\n",
    "import psycopg2\n",
    "import pandas as pd\n",
    "from sklearn.externals import joblib\n",
    "import numpy as np \n",
    "\n",
    "# # import classifier \n",
    "# filename = '/Users/kateliea/Documents/Insight/webapp/my_webapp/trained_classifiers/commentsclassifier_LR.pkl'\n",
    "# classify_helpful = joblib.load(filename) \n"
   ]
  },
  {
   "cell_type": "code",
   "execution_count": 3,
   "metadata": {
    "collapsed": false
   },
   "outputs": [
    {
     "name": "stdout",
     "output_type": "stream",
     "text": [
      "postgres://kateliea@localhost/somanycooksDB\n",
      "True\n",
      "[]\n"
     ]
    }
   ],
   "source": [
    "dbname = 'somanycooksDB'\n",
    "username = 'kateliea'\n",
    "\n",
    "\n",
    "engine = create_engine('postgres://%s@localhost/%s' % (username, dbname))\n",
    "print(engine.url)\n",
    "\n",
    "if not database_exists(engine.url):\n",
    "    create_database(engine.url)\n",
    "print(database_exists(engine.url))\n",
    "\n",
    "print(engine.table_names())\n",
    "\n",
    "# connect:\n",
    "con = None\n",
    "con = psycopg2.connect(database = dbname, user = username)\n"
   ]
  },
  {
   "cell_type": "code",
   "execution_count": 6,
   "metadata": {
    "collapsed": true
   },
   "outputs": [],
   "source": [
    "recipes = pd.read_csv('/Users/kateliea/Documents/Insight/project/data/sentiment_recipes.csv', index_col=0)\n",
    "recipes.to_sql('recipes', engine, if_exists='replace')\n",
    "\n",
    "comments = pd.read_csv('/Users/kateliea/Documents/Insight/project/data/sentiment_comments.csv', index_col=0)\n",
    "comments.to_sql('comments', engine, if_exists='replace')\n",
    "                       \n",
    "comments = pd.read_csv('/Users/kateliea/Documents/Insight/project/data/sentiment_sentences.csv', index_col=0)\n",
    "comments.to_sql('sentences', engine, if_exists='replace')\n",
    "\n",
    "train = pd.read_csv('/Users/kateliea/Documents/Insight/project/algorithm/training_data.csv', index_col=0)\n",
    "train.to_sql('trainingdata',engine,if_exists='replace')"
   ]
  },
  {
   "cell_type": "code",
   "execution_count": 7,
   "metadata": {
    "collapsed": true
   },
   "outputs": [],
   "source": [
    "train2 = pd.read_csv('/Users/kateliea/Documents/Insight/project/data/sentiment_training_data.csv', index_col=0)\n",
    "train2.to_sql('sentimenttrainingdata',engine,if_exists='replace')"
   ]
  },
  {
   "cell_type": "raw",
   "metadata": {
    "collapsed": true
   },
   "source": [
    "ranks = pd.read_csv('/Users/kateliea/Documents/Insight/project/algorithm/Recipe_sentiment_ranks.csv')\n",
    "# ranks.to_sql('ranks',engine,if_exists='replace')"
   ]
  },
  {
   "cell_type": "code",
   "execution_count": 5,
   "metadata": {
    "collapsed": false
   },
   "outputs": [
    {
     "data": {
      "text/plain": [
       "(97316, 23)"
      ]
     },
     "execution_count": 5,
     "metadata": {},
     "output_type": "execute_result"
    }
   ],
   "source": [
    "train.shape"
   ]
  },
  {
   "cell_type": "raw",
   "metadata": {},
   "source": []
  },
  {
   "cell_type": "code",
   "execution_count": 6,
   "metadata": {
    "collapsed": false
   },
   "outputs": [],
   "source": [
    "user_input = \"a tatin auditioned\"\n",
    "\n",
    "ranks_query = (\"\"\"\n",
    "        SELECT * FROM ranks WHERE recipe_title='%s';\n",
    "                   \"\"\" % user_input)\n",
    "\n",
    "recipe_query = (\"\"\"\n",
    "        SELECT numberofcomments, sentence_rank, plot_name FROM ranks WHERE title='%s';\n",
    "                   \"\"\" % user_input)\n",
    "\n",
    "ranks_returns = pd.read_sql_query(ranks_query, con)\n",
    "\n",
    "if len(ranks_returns.sentence_rank) == 0: \n",
    "    rank = 0\n",
    "# elif \n",
    "else: \n",
    "    rank = int(ranks_returns.sentence_rank.mean()*100)\n"
   ]
  },
  {
   "cell_type": "code",
   "execution_count": 9,
   "metadata": {
    "collapsed": false
   },
   "outputs": [
    {
     "data": {
      "text/html": [
       "<div>\n",
       "<table border=\"1\" class=\"dataframe\">\n",
       "  <thead>\n",
       "    <tr style=\"text-align: right;\">\n",
       "      <th></th>\n",
       "      <th>index</th>\n",
       "      <th>Unnamed: 0</th>\n",
       "      <th>mean_negativity_sentences</th>\n",
       "      <th>mean_positivity_comment</th>\n",
       "      <th>plot_name</th>\n",
       "      <th>recipe_title</th>\n",
       "      <th>numberofcomments</th>\n",
       "      <th>sentence_rank</th>\n",
       "      <th>recipe_ID</th>\n",
       "      <th>comment_rank</th>\n",
       "      <th>mean_positivity_sentences</th>\n",
       "      <th>mean_negativity_comment</th>\n",
       "    </tr>\n",
       "  </thead>\n",
       "  <tbody>\n",
       "  </tbody>\n",
       "</table>\n",
       "</div>"
      ],
      "text/plain": [
       "Empty DataFrame\n",
       "Columns: [index, Unnamed: 0, mean_negativity_sentences, mean_positivity_comment, plot_name, recipe_title, numberofcomments, sentence_rank, recipe_ID, comment_rank, mean_positivity_sentences, mean_negativity_comment]\n",
       "Index: []"
      ]
     },
     "execution_count": 9,
     "metadata": {},
     "output_type": "execute_result"
    }
   ],
   "source": [
    "ranks_returns.head()"
   ]
  },
  {
   "cell_type": "raw",
   "metadata": {
    "collapsed": false
   },
   "source": [
    "query = \"\"\"\n",
    "      SELECT title, url FROM recipes_table; \n",
    "      \"\"\"\n",
    "query_results = pd.read_sql_query(query,con)\n",
    "recipes = []\n",
    "for i in range(0,query_results.shape[0]):\n",
    "    recipes.append(dict(index=i, recipe_title=query_results.iloc[i]['title'].decode('utf-8'), url=query_results.iloc[i]['url'].decode('utf-8')))\n",
    "\n",
    "(recipes[0]['recipe_title'])"
   ]
  },
  {
   "cell_type": "code",
   "execution_count": null,
   "metadata": {
    "collapsed": false
   },
   "outputs": [],
   "source": [
    "recipes = sorted(recipes)"
   ]
  },
  {
   "cell_type": "code",
   "execution_count": null,
   "metadata": {
    "collapsed": true
   },
   "outputs": [],
   "source": []
  },
  {
   "cell_type": "code",
   "execution_count": null,
   "metadata": {
    "collapsed": false
   },
   "outputs": [],
   "source": [
    "predictions"
   ]
  },
  {
   "cell_type": "code",
   "execution_count": null,
   "metadata": {
    "collapsed": true
   },
   "outputs": [],
   "source": []
  },
  {
   "cell_type": "code",
   "execution_count": null,
   "metadata": {
    "collapsed": true
   },
   "outputs": [],
   "source": [
    "# postgres data\n",
    "user = 'kateliea'\n",
    "host = 'localhost'\n",
    "dbname = 'insight_project'\n",
    "db  = create_engine('postgres://%s%s/%s'%(user,host,dbname))\n",
    "con = None\n",
    "con = psycopg2.connect(database = dbname, user=user)"
   ]
  },
  {
   "cell_type": "code",
   "execution_count": null,
   "metadata": {
    "collapsed": true
   },
   "outputs": [],
   "source": [
    "user_input = 'chile-lime melon salad'"
   ]
  },
  {
   "cell_type": "code",
   "execution_count": 23,
   "metadata": {
    "collapsed": false
   },
   "outputs": [],
   "source": [
    "user_input = \"a tatin auditioned\"\n",
    "sql_query = (\"\"\"\n",
    "    SELECT sentence, usercomment, url, username, sentence_tokens  FROM sentences_table WHERE title='%s';\n",
    "    \"\"\" % user_input)\n",
    "\n",
    "query_returns = pd.read_sql_query(sql_query,con)\n"
   ]
  },
  {
   "cell_type": "code",
   "execution_count": null,
   "metadata": {
    "collapsed": true
   },
   "outputs": [],
   "source": []
  },
  {
   "cell_type": "code",
   "execution_count": 22,
   "metadata": {
    "collapsed": false
   },
   "outputs": [
    {
     "ename": "SyntaxError",
     "evalue": "'return' outside function (<ipython-input-22-c4c4f096a755>, line 6)",
     "output_type": "error",
     "traceback": [
      "\u001b[0;36m  File \u001b[0;32m\"<ipython-input-22-c4c4f096a755>\"\u001b[0;36m, line \u001b[0;32m6\u001b[0m\n\u001b[0;31m    return comments_to_show, url, rank\u001b[0m\n\u001b[0;31mSyntaxError\u001b[0m\u001b[0;31m:\u001b[0m 'return' outside function\n"
     ]
    }
   ],
   "source": [
    "comments_to_show = []\n",
    "if (helpful_comments.shape[0] > 0 )& (helpful_comments.shape[0] < min_to_show): \n",
    "    for ix, _ in range(0, helpful_comments.shape[0]): \n",
    "        comments_to_show.append(dict(comment=helpful_comments.iloc[ix].usercomment.decode('utf-8'), \n",
    "                                    username=helpful_comments.iloc[ix].username.decode('utf-8')))\n",
    "    return comments_to_show, url, rank\n",
    "\n",
    "\n",
    "elif helpful_comments.shape[0] > min_to_show: \n",
    "    randomnumbers = random.sample(range(0, helpful_comments.shape[0]), min_to_show)\n",
    "    for _, ix in enumerate(randomnumbers): \n",
    "        comments_to_show.append(dict(comment=helpful_comments.iloc[ix].usercomment.decode('utf-8'), \n",
    "                                    username=helpful_comments.iloc[ix].username.decode('utf-8')))\n",
    "    return comments_to_show, url, rank\n",
    "\n",
    "else: \n",
    "    return {'comment':'sorry, no comments', 'username':'-'}, 'blank', 'blank'"
   ]
  },
  {
   "cell_type": "code",
   "execution_count": null,
   "metadata": {
    "collapsed": false
   },
   "outputs": [],
   "source": [
    "helpful_sentences.drop_duplicates('usercomment','first')"
   ]
  },
  {
   "cell_type": "code",
   "execution_count": null,
   "metadata": {
    "collapsed": false
   },
   "outputs": [],
   "source": [
    "commentslist"
   ]
  },
  {
   "cell_type": "code",
   "execution_count": 33,
   "metadata": {
    "collapsed": false
   },
   "outputs": [],
   "source": [
    "# from flask import render_template, request\n",
    "# from somanycooks import app\n",
    "# from sqlalchemy import create_engine\n",
    "# from sqlalchemy_utils import database_exists, create_database\n",
    "# import pandas as pd\n",
    "# import psycopg2\n",
    "# from sklearn.externals import joblib\n",
    "# import random\n",
    "# # from wordcloud import WordCloud, STOPWORDS\n",
    "# import matplotlib.pyplot as plt\n",
    "\n",
    "\n",
    "# import classifier \n",
    "filename = '/Users/kateliea/Documents/Insight/webapp/my_webapp/trained_classifiers/commentsclassifier_LR.pkl'\n",
    "classify_helpful = joblib.load(filename) \n",
    "\n",
    "\n",
    "\n",
    "min_to_show = 6\n",
    "\n",
    "# def GetComments(user_input, con, fromUser='Default'):\n",
    "sql_query = (\"\"\"\n",
    "    SELECT sentence, usercomment, url, username, sentence_tokens  FROM sentences_table WHERE title='%s';\n",
    "    \"\"\" % user_input)\n",
    "\n",
    "query_returns = pd.read_sql_query(sql_query,con)\n",
    "\n",
    "if len(query_returns) > 0: \n",
    "    # url=query_returns.iloc[0].url.decode('utf-8')\n",
    "\n",
    "    ranks_query = (\"\"\"\n",
    "        SELECT numberofcomments, sentence_rank, plot_name FROM ranks WHERE recipe_title='%s';\n",
    "                   \"\"\" % user_input)\n",
    "\n",
    "    recipe_query = (\"\"\"\n",
    "        SELECT numberofcomments, sentence_rank, plot_name FROM ranks WHERE title='%s';\n",
    "                   \"\"\" % user_input)\n",
    "\n",
    "    ranks_returns = pd.read_sql_query(ranks_query, con)\n",
    "\n",
    "    if len(ranks_returns.sentence_rank) == 0: \n",
    "        rank = 0\n",
    "    # elif \n",
    "    else: \n",
    "        rank = int(ranks_returns.sentence_rank.mean()*100)\n",
    "\n",
    "\n",
    "    # apply classifier \n",
    "    predictions = classify_helpful.predict(query_returns.sentence)\n",
    "    helpful_sentences = query_returns.iloc[predictions == 'helpful', :]\n",
    "    helpful_comments = helpful_sentences.drop_duplicates('usercomment','first')\n",
    "\n",
    "    # tokens = []\n",
    "    # for _, tok in enumerate(helpful_comments.sentence_tokens): \n",
    "    #     tokens += [tok]\n",
    "\n",
    "\n",
    "    # cloud = MakeWordcloud(tok).to_image()\n",
    "\n",
    "    comments_to_show = []\n",
    "    if (helpful_comments.shape[0] > 0 )& (helpful_comments.shape[0] < min_to_show): \n",
    "        for ix, _ in range(0, helpful_comments.shape[0]): \n",
    "            comments_to_show.append(dict(comment=helpful_comments.iloc[ix].usercomment.decode('utf-8'), \n",
    "                                        username=helpful_comments.iloc[ix].username.decode('utf-8')))\n",
    "    #     return comments_to_show, url, rank\n",
    "\n",
    "\n",
    "    elif helpful_comments.shape[0] > min_to_show: \n",
    "        randomnumbers = random.sample(range(0, helpful_comments.shape[0]), min_to_show)\n",
    "        for _, ix in enumerate(randomnumbers): \n",
    "            comments_to_show.append(dict(comment=helpful_comments.iloc[ix].usercomment.decode('utf-8'), \n",
    "                                        username=helpful_comments.iloc[ix].username.decode('utf-8')))\n",
    "    #     return comments_to_show, url, rank\n",
    "\n",
    "    # else: \n",
    "    #     return {'comment':'sorry, no comments', 'username':'-'}, 'blank', 'blank'\n",
    "\n",
    "\n",
    "\n",
    "    def CommentChecker(user_input, con):\n",
    "        prediction = classify_helpful.predict([user_input])\n",
    "\n",
    "        if prediction.any() == \"helpful\":\n",
    "            return prediction, \"yes! that sounds like useful feedback!\"\n",
    "\n",
    "        elif prediction.all() == \"other\":\n",
    "            return prediction, \"hmm... I don't know how useful that suggestion will be... can you give some more details?\"\n",
    "\n",
    "        else: \n",
    "            return \"sorry, Dave, I can't do that\"\n",
    "\n",
    "\n",
    "\n",
    "# def MakeWordcloud(comments):\n",
    "#     wordcloud = WordCloud(max_words=500, relative_scaling=0.5, font_path='/Library/Fonts/Chalkduster', stopwords=STOPWORDS, width=100, height=500).generate(comments)\n",
    "#     return wordcloud\n",
    "#     # return fig\n",
    "\n",
    "\n",
    "\n",
    "\n",
    "\n"
   ]
  },
  {
   "cell_type": "code",
   "execution_count": 34,
   "metadata": {
    "collapsed": false
   },
   "outputs": [
    {
     "ename": "NameError",
     "evalue": "name 'helpful_comments' is not defined",
     "output_type": "error",
     "traceback": [
      "\u001b[0;31m---------------------------------------------------------------------------\u001b[0m",
      "\u001b[0;31mNameError\u001b[0m                                 Traceback (most recent call last)",
      "\u001b[0;32m<ipython-input-34-d3538825dcde>\u001b[0m in \u001b[0;36m<module>\u001b[0;34m()\u001b[0m\n\u001b[0;32m----> 1\u001b[0;31m \u001b[0mhelpful_comments\u001b[0m\u001b[0;34m.\u001b[0m\u001b[0mshape\u001b[0m\u001b[0;34m[\u001b[0m\u001b[0;36m0\u001b[0m\u001b[0;34m]\u001b[0m\u001b[0;34m\u001b[0m\u001b[0m\n\u001b[0m",
      "\u001b[0;31mNameError\u001b[0m: name 'helpful_comments' is not defined"
     ]
    }
   ],
   "source": [
    "helpful_comments.shape[0]"
   ]
  },
  {
   "cell_type": "code",
   "execution_count": 31,
   "metadata": {
    "collapsed": true
   },
   "outputs": [],
   "source": [
    "sql_query = (\"\"\"\n",
    "    SELECT sentence, usercomment, url, username, sentence_tokens  FROM sentences_table WHERE title='%s';\n",
    "    \"\"\" % user_input)\n",
    "\n",
    "query_returns = pd.read_sql_query(sql_query,con)\n"
   ]
  },
  {
   "cell_type": "code",
   "execution_count": null,
   "metadata": {
    "collapsed": true
   },
   "outputs": [],
   "source": []
  }
 ],
 "metadata": {
  "anaconda-cloud": {},
  "kernelspec": {
   "display_name": "Python [conda env:py2ins]",
   "language": "python",
   "name": "conda-env-py2ins-py"
  },
  "language_info": {
   "codemirror_mode": {
    "name": "ipython",
    "version": 2
   },
   "file_extension": ".py",
   "mimetype": "text/x-python",
   "name": "python",
   "nbconvert_exporter": "python",
   "pygments_lexer": "ipython2",
   "version": "2.7.12"
  }
 },
 "nbformat": 4,
 "nbformat_minor": 1
}
